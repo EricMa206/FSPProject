{
 "cells": [
  {
   "cell_type": "markdown",
   "metadata": {},
   "source": [
    "## DW-Nominate"
   ]
  },
  {
   "cell_type": "markdown",
   "metadata": {},
   "source": [
    "#### Links:\n",
    "\n",
    "Legislator's Idealogical Scores\n",
    "\n",
    "[DW-Nominate Legistator Data](https://voteview.com/data)\n",
    "\n",
    "Methology\n",
    "\n",
    "[DW-NOMINATE Scores With Bootstrapped Standard Errors](https://legacy.voteview.com/dwnomin.htm)\n",
    "\n",
    "[NOMINATE (scaling method) - Wikipedia](https://en.wikipedia.org/wiki/NOMINATE_(scaling_method))\n",
    "\n",
    "More Information\n",
    "\n",
    "[GovTrack](https://www.govtrack.us/)\n",
    "\n"
   ]
  },
  {
   "cell_type": "code",
   "execution_count": 3,
   "metadata": {},
   "outputs": [],
   "source": [
    "import requests\n",
    "import pandas as pd\n",
    "import matplotlib.pyplot as plt\n",
    "%matplotlib inline\n",
    "import json\n",
    "import numpy as np\n",
    "import seaborn as sns\n"
   ]
  },
  {
   "cell_type": "code",
   "execution_count": null,
   "metadata": {},
   "outputs": [],
   "source": []
  }
 ],
 "metadata": {
  "kernelspec": {
   "display_name": "Python 3",
   "language": "python",
   "name": "python3"
  },
  "language_info": {
   "codemirror_mode": {
    "name": "ipython",
    "version": 3
   },
   "file_extension": ".py",
   "mimetype": "text/x-python",
   "name": "python",
   "nbconvert_exporter": "python",
   "pygments_lexer": "ipython3",
   "version": "3.6.6"
  }
 },
 "nbformat": 4,
 "nbformat_minor": 2
}
